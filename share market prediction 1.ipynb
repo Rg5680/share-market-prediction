{
 "cells": [
  {
   "cell_type": "code",
   "execution_count": 42,
   "metadata": {},
   "outputs": [],
   "source": [
    "import numpy as np\n",
    "import pandas as pd\n",
    "import matplotlib.pyplot as plt\n",
    "import pandas_datareader as data"
   ]
  },
  {
   "cell_type": "code",
   "execution_count": 43,
   "metadata": {},
   "outputs": [
    {
     "data": {
      "text/html": [
       "<div>\n",
       "<style scoped>\n",
       "    .dataframe tbody tr th:only-of-type {\n",
       "        vertical-align: middle;\n",
       "    }\n",
       "\n",
       "    .dataframe tbody tr th {\n",
       "        vertical-align: top;\n",
       "    }\n",
       "\n",
       "    .dataframe thead th {\n",
       "        text-align: right;\n",
       "    }\n",
       "</style>\n",
       "<table border=\"1\" class=\"dataframe\">\n",
       "  <thead>\n",
       "    <tr style=\"text-align: right;\">\n",
       "      <th></th>\n",
       "      <th>High</th>\n",
       "      <th>Low</th>\n",
       "      <th>Open</th>\n",
       "      <th>Close</th>\n",
       "      <th>Volume</th>\n",
       "      <th>Adj Close</th>\n",
       "    </tr>\n",
       "    <tr>\n",
       "      <th>Date</th>\n",
       "      <th></th>\n",
       "      <th></th>\n",
       "      <th></th>\n",
       "      <th></th>\n",
       "      <th></th>\n",
       "      <th></th>\n",
       "    </tr>\n",
       "  </thead>\n",
       "  <tbody>\n",
       "    <tr>\n",
       "      <th>2021-01-01</th>\n",
       "      <td>14049.849609</td>\n",
       "      <td>13991.349609</td>\n",
       "      <td>13996.099609</td>\n",
       "      <td>14018.500000</td>\n",
       "      <td>358100</td>\n",
       "      <td>14018.500000</td>\n",
       "    </tr>\n",
       "    <tr>\n",
       "      <th>2021-01-04</th>\n",
       "      <td>14147.950195</td>\n",
       "      <td>13953.750000</td>\n",
       "      <td>14104.349609</td>\n",
       "      <td>14132.900391</td>\n",
       "      <td>495000</td>\n",
       "      <td>14132.900391</td>\n",
       "    </tr>\n",
       "    <tr>\n",
       "      <th>2021-01-05</th>\n",
       "      <td>14215.599609</td>\n",
       "      <td>14048.150391</td>\n",
       "      <td>14075.150391</td>\n",
       "      <td>14199.500000</td>\n",
       "      <td>492500</td>\n",
       "      <td>14199.500000</td>\n",
       "    </tr>\n",
       "    <tr>\n",
       "      <th>2021-01-06</th>\n",
       "      <td>14244.150391</td>\n",
       "      <td>14039.900391</td>\n",
       "      <td>14240.950195</td>\n",
       "      <td>14146.250000</td>\n",
       "      <td>632300</td>\n",
       "      <td>14146.250000</td>\n",
       "    </tr>\n",
       "    <tr>\n",
       "      <th>2021-01-07</th>\n",
       "      <td>14256.250000</td>\n",
       "      <td>14123.099609</td>\n",
       "      <td>14253.750000</td>\n",
       "      <td>14137.349609</td>\n",
       "      <td>559200</td>\n",
       "      <td>14137.349609</td>\n",
       "    </tr>\n",
       "  </tbody>\n",
       "</table>\n",
       "</div>"
      ],
      "text/plain": [
       "                    High           Low          Open         Close  Volume  \\\n",
       "Date                                                                         \n",
       "2021-01-01  14049.849609  13991.349609  13996.099609  14018.500000  358100   \n",
       "2021-01-04  14147.950195  13953.750000  14104.349609  14132.900391  495000   \n",
       "2021-01-05  14215.599609  14048.150391  14075.150391  14199.500000  492500   \n",
       "2021-01-06  14244.150391  14039.900391  14240.950195  14146.250000  632300   \n",
       "2021-01-07  14256.250000  14123.099609  14253.750000  14137.349609  559200   \n",
       "\n",
       "               Adj Close  \n",
       "Date                      \n",
       "2021-01-01  14018.500000  \n",
       "2021-01-04  14132.900391  \n",
       "2021-01-05  14199.500000  \n",
       "2021-01-06  14146.250000  \n",
       "2021-01-07  14137.349609  "
      ]
     },
     "execution_count": 43,
     "metadata": {},
     "output_type": "execute_result"
    }
   ],
   "source": [
    "start ='2021-01-01'\n",
    "end = '2022-03-29'\n",
    "\n",
    "df = data.DataReader('^NSEI','yahoo',start,end)\n",
    "df.head()"
   ]
  },
  {
   "cell_type": "code",
   "execution_count": 44,
   "metadata": {},
   "outputs": [
    {
     "data": {
      "text/html": [
       "<div>\n",
       "<style scoped>\n",
       "    .dataframe tbody tr th:only-of-type {\n",
       "        vertical-align: middle;\n",
       "    }\n",
       "\n",
       "    .dataframe tbody tr th {\n",
       "        vertical-align: top;\n",
       "    }\n",
       "\n",
       "    .dataframe thead th {\n",
       "        text-align: right;\n",
       "    }\n",
       "</style>\n",
       "<table border=\"1\" class=\"dataframe\">\n",
       "  <thead>\n",
       "    <tr style=\"text-align: right;\">\n",
       "      <th></th>\n",
       "      <th>High</th>\n",
       "      <th>Low</th>\n",
       "      <th>Open</th>\n",
       "      <th>Close</th>\n",
       "      <th>Volume</th>\n",
       "      <th>Adj Close</th>\n",
       "    </tr>\n",
       "    <tr>\n",
       "      <th>Date</th>\n",
       "      <th></th>\n",
       "      <th></th>\n",
       "      <th></th>\n",
       "      <th></th>\n",
       "      <th></th>\n",
       "      <th></th>\n",
       "    </tr>\n",
       "  </thead>\n",
       "  <tbody>\n",
       "    <tr>\n",
       "      <th>2022-03-23</th>\n",
       "      <td>17442.400391</td>\n",
       "      <td>17199.599609</td>\n",
       "      <td>17405.050781</td>\n",
       "      <td>17245.650391</td>\n",
       "      <td>292100</td>\n",
       "      <td>17245.650391</td>\n",
       "    </tr>\n",
       "    <tr>\n",
       "      <th>2022-03-24</th>\n",
       "      <td>17291.750000</td>\n",
       "      <td>17091.150391</td>\n",
       "      <td>17094.949219</td>\n",
       "      <td>17222.750000</td>\n",
       "      <td>290300</td>\n",
       "      <td>17222.750000</td>\n",
       "    </tr>\n",
       "    <tr>\n",
       "      <th>2022-03-25</th>\n",
       "      <td>17294.900391</td>\n",
       "      <td>17076.550781</td>\n",
       "      <td>17289.000000</td>\n",
       "      <td>17153.000000</td>\n",
       "      <td>237100</td>\n",
       "      <td>17153.000000</td>\n",
       "    </tr>\n",
       "    <tr>\n",
       "      <th>2022-03-28</th>\n",
       "      <td>17235.099609</td>\n",
       "      <td>17003.900391</td>\n",
       "      <td>17181.849609</td>\n",
       "      <td>17222.000000</td>\n",
       "      <td>253200</td>\n",
       "      <td>17222.000000</td>\n",
       "    </tr>\n",
       "    <tr>\n",
       "      <th>2022-03-29</th>\n",
       "      <td>17343.650391</td>\n",
       "      <td>17235.699219</td>\n",
       "      <td>17297.199219</td>\n",
       "      <td>17325.300781</td>\n",
       "      <td>235100</td>\n",
       "      <td>17325.300781</td>\n",
       "    </tr>\n",
       "  </tbody>\n",
       "</table>\n",
       "</div>"
      ],
      "text/plain": [
       "                    High           Low          Open         Close  Volume  \\\n",
       "Date                                                                         \n",
       "2022-03-23  17442.400391  17199.599609  17405.050781  17245.650391  292100   \n",
       "2022-03-24  17291.750000  17091.150391  17094.949219  17222.750000  290300   \n",
       "2022-03-25  17294.900391  17076.550781  17289.000000  17153.000000  237100   \n",
       "2022-03-28  17235.099609  17003.900391  17181.849609  17222.000000  253200   \n",
       "2022-03-29  17343.650391  17235.699219  17297.199219  17325.300781  235100   \n",
       "\n",
       "               Adj Close  \n",
       "Date                      \n",
       "2022-03-23  17245.650391  \n",
       "2022-03-24  17222.750000  \n",
       "2022-03-25  17153.000000  \n",
       "2022-03-28  17222.000000  \n",
       "2022-03-29  17325.300781  "
      ]
     },
     "execution_count": 44,
     "metadata": {},
     "output_type": "execute_result"
    }
   ],
   "source": [
    "df.tail()"
   ]
  },
  {
   "cell_type": "code",
   "execution_count": 4,
   "metadata": {},
   "outputs": [
    {
     "data": {
      "text/html": [
       "<div>\n",
       "<style scoped>\n",
       "    .dataframe tbody tr th:only-of-type {\n",
       "        vertical-align: middle;\n",
       "    }\n",
       "\n",
       "    .dataframe tbody tr th {\n",
       "        vertical-align: top;\n",
       "    }\n",
       "\n",
       "    .dataframe thead th {\n",
       "        text-align: right;\n",
       "    }\n",
       "</style>\n",
       "<table border=\"1\" class=\"dataframe\">\n",
       "  <thead>\n",
       "    <tr style=\"text-align: right;\">\n",
       "      <th></th>\n",
       "      <th>Date</th>\n",
       "      <th>High</th>\n",
       "      <th>Low</th>\n",
       "      <th>Open</th>\n",
       "      <th>Close</th>\n",
       "      <th>Volume</th>\n",
       "      <th>Adj Close</th>\n",
       "    </tr>\n",
       "  </thead>\n",
       "  <tbody>\n",
       "    <tr>\n",
       "      <th>0</th>\n",
       "      <td>2021-01-01</td>\n",
       "      <td>14049.849609</td>\n",
       "      <td>13991.349609</td>\n",
       "      <td>13996.099609</td>\n",
       "      <td>14018.500000</td>\n",
       "      <td>358100</td>\n",
       "      <td>14018.500000</td>\n",
       "    </tr>\n",
       "    <tr>\n",
       "      <th>1</th>\n",
       "      <td>2021-01-04</td>\n",
       "      <td>14147.950195</td>\n",
       "      <td>13953.750000</td>\n",
       "      <td>14104.349609</td>\n",
       "      <td>14132.900391</td>\n",
       "      <td>495000</td>\n",
       "      <td>14132.900391</td>\n",
       "    </tr>\n",
       "    <tr>\n",
       "      <th>2</th>\n",
       "      <td>2021-01-05</td>\n",
       "      <td>14215.599609</td>\n",
       "      <td>14048.150391</td>\n",
       "      <td>14075.150391</td>\n",
       "      <td>14199.500000</td>\n",
       "      <td>492500</td>\n",
       "      <td>14199.500000</td>\n",
       "    </tr>\n",
       "    <tr>\n",
       "      <th>3</th>\n",
       "      <td>2021-01-06</td>\n",
       "      <td>14244.150391</td>\n",
       "      <td>14039.900391</td>\n",
       "      <td>14240.950195</td>\n",
       "      <td>14146.250000</td>\n",
       "      <td>632300</td>\n",
       "      <td>14146.250000</td>\n",
       "    </tr>\n",
       "    <tr>\n",
       "      <th>4</th>\n",
       "      <td>2021-01-07</td>\n",
       "      <td>14256.250000</td>\n",
       "      <td>14123.099609</td>\n",
       "      <td>14253.750000</td>\n",
       "      <td>14137.349609</td>\n",
       "      <td>559200</td>\n",
       "      <td>14137.349609</td>\n",
       "    </tr>\n",
       "  </tbody>\n",
       "</table>\n",
       "</div>"
      ],
      "text/plain": [
       "        Date          High           Low          Open         Close  Volume  \\\n",
       "0 2021-01-01  14049.849609  13991.349609  13996.099609  14018.500000  358100   \n",
       "1 2021-01-04  14147.950195  13953.750000  14104.349609  14132.900391  495000   \n",
       "2 2021-01-05  14215.599609  14048.150391  14075.150391  14199.500000  492500   \n",
       "3 2021-01-06  14244.150391  14039.900391  14240.950195  14146.250000  632300   \n",
       "4 2021-01-07  14256.250000  14123.099609  14253.750000  14137.349609  559200   \n",
       "\n",
       "      Adj Close  \n",
       "0  14018.500000  \n",
       "1  14132.900391  \n",
       "2  14199.500000  \n",
       "3  14146.250000  \n",
       "4  14137.349609  "
      ]
     },
     "execution_count": 4,
     "metadata": {},
     "output_type": "execute_result"
    }
   ],
   "source": [
    "df = df.reset_index()\n",
    "df.head()"
   ]
  },
  {
   "cell_type": "code",
   "execution_count": 5,
   "metadata": {},
   "outputs": [
    {
     "data": {
      "text/html": [
       "<div>\n",
       "<style scoped>\n",
       "    .dataframe tbody tr th:only-of-type {\n",
       "        vertical-align: middle;\n",
       "    }\n",
       "\n",
       "    .dataframe tbody tr th {\n",
       "        vertical-align: top;\n",
       "    }\n",
       "\n",
       "    .dataframe thead th {\n",
       "        text-align: right;\n",
       "    }\n",
       "</style>\n",
       "<table border=\"1\" class=\"dataframe\">\n",
       "  <thead>\n",
       "    <tr style=\"text-align: right;\">\n",
       "      <th></th>\n",
       "      <th>High</th>\n",
       "      <th>Low</th>\n",
       "      <th>Open</th>\n",
       "      <th>Close</th>\n",
       "      <th>Volume</th>\n",
       "    </tr>\n",
       "  </thead>\n",
       "  <tbody>\n",
       "    <tr>\n",
       "      <th>0</th>\n",
       "      <td>14049.849609</td>\n",
       "      <td>13991.349609</td>\n",
       "      <td>13996.099609</td>\n",
       "      <td>14018.500000</td>\n",
       "      <td>358100</td>\n",
       "    </tr>\n",
       "    <tr>\n",
       "      <th>1</th>\n",
       "      <td>14147.950195</td>\n",
       "      <td>13953.750000</td>\n",
       "      <td>14104.349609</td>\n",
       "      <td>14132.900391</td>\n",
       "      <td>495000</td>\n",
       "    </tr>\n",
       "    <tr>\n",
       "      <th>2</th>\n",
       "      <td>14215.599609</td>\n",
       "      <td>14048.150391</td>\n",
       "      <td>14075.150391</td>\n",
       "      <td>14199.500000</td>\n",
       "      <td>492500</td>\n",
       "    </tr>\n",
       "    <tr>\n",
       "      <th>3</th>\n",
       "      <td>14244.150391</td>\n",
       "      <td>14039.900391</td>\n",
       "      <td>14240.950195</td>\n",
       "      <td>14146.250000</td>\n",
       "      <td>632300</td>\n",
       "    </tr>\n",
       "    <tr>\n",
       "      <th>4</th>\n",
       "      <td>14256.250000</td>\n",
       "      <td>14123.099609</td>\n",
       "      <td>14253.750000</td>\n",
       "      <td>14137.349609</td>\n",
       "      <td>559200</td>\n",
       "    </tr>\n",
       "  </tbody>\n",
       "</table>\n",
       "</div>"
      ],
      "text/plain": [
       "           High           Low          Open         Close  Volume\n",
       "0  14049.849609  13991.349609  13996.099609  14018.500000  358100\n",
       "1  14147.950195  13953.750000  14104.349609  14132.900391  495000\n",
       "2  14215.599609  14048.150391  14075.150391  14199.500000  492500\n",
       "3  14244.150391  14039.900391  14240.950195  14146.250000  632300\n",
       "4  14256.250000  14123.099609  14253.750000  14137.349609  559200"
      ]
     },
     "execution_count": 5,
     "metadata": {},
     "output_type": "execute_result"
    }
   ],
   "source": [
    "df = df.drop(['Date', 'Adj Close'], axis = 1)\n",
    "df.head()"
   ]
  },
  {
   "cell_type": "code",
   "execution_count": 6,
   "metadata": {},
   "outputs": [
    {
     "data": {
      "text/plain": [
       "[<matplotlib.lines.Line2D at 0x1f877c3c2b0>]"
      ]
     },
     "execution_count": 6,
     "metadata": {},
     "output_type": "execute_result"
    },
    {
     "data": {
      "image/png": "[encoded data removed]",
      "text/plain": [
       "<Figure size 432x288 with 1 Axes>"
      ]
     },
     "metadata": {
      "needs_background": "light"
     },
     "output_type": "display_data"
    }
   ],
   "source": [
    "plt.plot(df.Close)"
   ]
  },
  {
   "cell_type": "code",
   "execution_count": 7,
   "metadata": {},
   "outputs": [
    {
     "data": {
      "text/html": [
       "<div>\n",
       "<style scoped>\n",
       "    .dataframe tbody tr th:only-of-type {\n",
       "        vertical-align: middle;\n",
       "    }\n",
       "\n",
       "    .dataframe tbody tr th {\n",
       "        vertical-align: top;\n",
       "    }\n",
       "\n",
       "    .dataframe thead th {\n",
       "        text-align: right;\n",
       "    }\n",
       "</style>\n",
       "<table border=\"1\" class=\"dataframe\">\n",
       "  <thead>\n",
       "    <tr style=\"text-align: right;\">\n",
       "      <th></th>\n",
       "      <th>High</th>\n",
       "      <th>Low</th>\n",
       "      <th>Open</th>\n",
       "      <th>Close</th>\n",
       "      <th>Volume</th>\n",
       "    </tr>\n",
       "  </thead>\n",
       "  <tbody>\n",
       "    <tr>\n",
       "      <th>0</th>\n",
       "      <td>14049.849609</td>\n",
       "      <td>13991.349609</td>\n",
       "      <td>13996.099609</td>\n",
       "      <td>14018.500000</td>\n",
       "      <td>358100</td>\n",
       "    </tr>\n",
       "    <tr>\n",
       "      <th>1</th>\n",
       "      <td>14147.950195</td>\n",
       "      <td>13953.750000</td>\n",
       "      <td>14104.349609</td>\n",
       "      <td>14132.900391</td>\n",
       "      <td>495000</td>\n",
       "    </tr>\n",
       "    <tr>\n",
       "      <th>2</th>\n",
       "      <td>14215.599609</td>\n",
       "      <td>14048.150391</td>\n",
       "      <td>14075.150391</td>\n",
       "      <td>14199.500000</td>\n",
       "      <td>492500</td>\n",
       "    </tr>\n",
       "    <tr>\n",
       "      <th>3</th>\n",
       "      <td>14244.150391</td>\n",
       "      <td>14039.900391</td>\n",
       "      <td>14240.950195</td>\n",
       "      <td>14146.250000</td>\n",
       "      <td>632300</td>\n",
       "    </tr>\n",
       "    <tr>\n",
       "      <th>4</th>\n",
       "      <td>14256.250000</td>\n",
       "      <td>14123.099609</td>\n",
       "      <td>14253.750000</td>\n",
       "      <td>14137.349609</td>\n",
       "      <td>559200</td>\n",
       "    </tr>\n",
       "    <tr>\n",
       "      <th>...</th>\n",
       "      <td>...</td>\n",
       "      <td>...</td>\n",
       "      <td>...</td>\n",
       "      <td>...</td>\n",
       "      <td>...</td>\n",
       "    </tr>\n",
       "    <tr>\n",
       "      <th>302</th>\n",
       "      <td>17442.400391</td>\n",
       "      <td>17199.599609</td>\n",
       "      <td>17405.050781</td>\n",
       "      <td>17245.650391</td>\n",
       "      <td>292100</td>\n",
       "    </tr>\n",
       "    <tr>\n",
       "      <th>303</th>\n",
       "      <td>17291.750000</td>\n",
       "      <td>17091.150391</td>\n",
       "      <td>17094.949219</td>\n",
       "      <td>17222.750000</td>\n",
       "      <td>290300</td>\n",
       "    </tr>\n",
       "    <tr>\n",
       "      <th>304</th>\n",
       "      <td>17294.900391</td>\n",
       "      <td>17076.550781</td>\n",
       "      <td>17289.000000</td>\n",
       "      <td>17153.000000</td>\n",
       "      <td>237100</td>\n",
       "    </tr>\n",
       "    <tr>\n",
       "      <th>305</th>\n",
       "      <td>17235.099609</td>\n",
       "      <td>17003.900391</td>\n",
       "      <td>17181.849609</td>\n",
       "      <td>17222.000000</td>\n",
       "      <td>253200</td>\n",
       "    </tr>\n",
       "    <tr>\n",
       "      <th>306</th>\n",
       "      <td>17343.650391</td>\n",
       "      <td>17235.699219</td>\n",
       "      <td>17297.199219</td>\n",
       "      <td>17325.300781</td>\n",
       "      <td>235100</td>\n",
       "    </tr>\n",
       "  </tbody>\n",
       "</table>\n",
       "<p>307 rows × 5 columns</p>\n",
       "</div>"
      ],
      "text/plain": [
       "             High           Low          Open         Close  Volume\n",
       "0    14049.849609  13991.349609  13996.099609  14018.500000  358100\n",
       "1    14147.950195  13953.750000  14104.349609  14132.900391  495000\n",
       "2    14215.599609  14048.150391  14075.150391  14199.500000  492500\n",
       "3    14244.150391  14039.900391  14240.950195  14146.250000  632300\n",
       "4    14256.250000  14123.099609  14253.750000  14137.349609  559200\n",
       "..            ...           ...           ...           ...     ...\n",
       "302  17442.400391  17199.599609  17405.050781  17245.650391  292100\n",
       "303  17291.750000  17091.150391  17094.949219  17222.750000  290300\n",
       "304  17294.900391  17076.550781  17289.000000  17153.000000  237100\n",
       "305  17235.099609  17003.900391  17181.849609  17222.000000  253200\n",
       "306  17343.650391  17235.699219  17297.199219  17325.300781  235100\n",
       "\n",
       "[307 rows x 5 columns]"
      ]
     },
     "execution_count": 7,
     "metadata": {},
     "output_type": "execute_result"
    }
   ],
   "source": [
    "df"
   ]
  },
  {
   "cell_type": "code",
   "execution_count": 8,
   "metadata": {},
   "outputs": [
    {
     "data": {
      "text/plain": [
       "0               NaN\n",
       "1               NaN\n",
       "2               NaN\n",
       "3               NaN\n",
       "4               NaN\n",
       "           ...     \n",
       "302    17351.182949\n",
       "303    17344.837949\n",
       "304    17339.651445\n",
       "305    17332.574941\n",
       "306    17326.938457\n",
       "Name: Close, Length: 307, dtype: float64"
      ]
     },
     "execution_count": 8,
     "metadata": {},
     "output_type": "execute_result"
    }
   ],
   "source": [
    "ma100 =df.Close.rolling(100).mean()\n",
    "ma100"
   ]
  },
  {
   "cell_type": "code",
   "execution_count": 9,
   "metadata": {},
   "outputs": [
    {
     "data": {
      "text/plain": [
       "[<matplotlib.lines.Line2D at 0x1f877954520>]"
      ]
     },
     "execution_count": 9,
     "metadata": {},
     "output_type": "execute_result"
    },
    {
     "data": {
      "image/png": "[encoded data removed]",
      "text/plain": [
       "<Figure size 864x432 with 1 Axes>"
      ]
     },
     "metadata": {
      "needs_background": "light"
     },
     "output_type": "display_data"
    }
   ],
   "source": [
    "plt.figure(figsize = (12,6))\n",
    "plt.plot(df.Close)\n",
    "plt.plot(ma100,'r')"
   ]
  },
  {
   "cell_type": "code",
   "execution_count": 10,
   "metadata": {},
   "outputs": [
    {
     "data": {
      "text/plain": [
       "0               NaN\n",
       "1               NaN\n",
       "2               NaN\n",
       "3               NaN\n",
       "4               NaN\n",
       "           ...     \n",
       "302    17021.494468\n",
       "303    17029.256968\n",
       "304    17036.263716\n",
       "305    17043.673218\n",
       "306    17052.122974\n",
       "Name: Close, Length: 307, dtype: float64"
      ]
     },
     "execution_count": 10,
     "metadata": {},
     "output_type": "execute_result"
    }
   ],
   "source": [
    "ma200 =df.Close.rolling(200).mean()\n",
    "ma200"
   ]
  },
  {
   "cell_type": "code",
   "execution_count": 11,
   "metadata": {},
   "outputs": [
    {
     "data": {
      "text/plain": [
       "[<matplotlib.lines.Line2D at 0x1f8779e3d90>]"
      ]
     },
     "execution_count": 11,
     "metadata": {},
     "output_type": "execute_result"
    },
    {
     "data": {
      "image/png": "[encoded data removed]",
      "text/plain": [
       "<Figure size 864x432 with 1 Axes>"
      ]
     },
     "metadata": {
      "needs_background": "light"
     },
     "output_type": "display_data"
    }
   ],
   "source": [
    "plt.figure(figsize = (12,6))\n",
    "plt.plot(df.Close)\n",
    "plt.plot(ma100,'r')\n",
    "plt.plot(ma200,'g')"
   ]
  },
  {
   "cell_type": "code",
   "execution_count": 12,
   "metadata": {},
   "outputs": [
    {
     "data": {
      "text/plain": [
       "(307, 5)"
      ]
     },
     "execution_count": 12,
     "metadata": {},
     "output_type": "execute_result"
    }
   ],
   "source": [
    "df.shape"
   ]
  },
  {
   "cell_type": "code",
   "execution_count": 13,
   "metadata": {},
   "outputs": [
    {
     "name": "stdout",
     "output_type": "stream",
     "text": [
      "(214, 1)\n",
      "(93, 1)\n"
     ]
    }
   ],
   "source": [
    "# spliting data into training and testing\n",
    "\n",
    "data_training = pd.DataFrame(df['Close'][0:int(len(df)*0.70)])\n",
    "data_testing = pd.DataFrame(df['Close'][int(len(df)*0.70): int(len(df))])\n",
    "\n",
    "print(data_training.shape)\n",
    "print(data_testing.shape)"
   ]
  },
  {
   "cell_type": "code",
   "execution_count": 14,
   "metadata": {},
   "outputs": [
    {
     "data": {
      "text/html": [
       "<div>\n",
       "<style scoped>\n",
       "    .dataframe tbody tr th:only-of-type {\n",
       "        vertical-align: middle;\n",
       "    }\n",
       "\n",
       "    .dataframe tbody tr th {\n",
       "        vertical-align: top;\n",
       "    }\n",
       "\n",
       "    .dataframe thead th {\n",
       "        text-align: right;\n",
       "    }\n",
       "</style>\n",
       "<table border=\"1\" class=\"dataframe\">\n",
       "  <thead>\n",
       "    <tr style=\"text-align: right;\">\n",
       "      <th></th>\n",
       "      <th>Close</th>\n",
       "    </tr>\n",
       "  </thead>\n",
       "  <tbody>\n",
       "    <tr>\n",
       "      <th>0</th>\n",
       "      <td>14018.500000</td>\n",
       "    </tr>\n",
       "    <tr>\n",
       "      <th>1</th>\n",
       "      <td>14132.900391</td>\n",
       "    </tr>\n",
       "    <tr>\n",
       "      <th>2</th>\n",
       "      <td>14199.500000</td>\n",
       "    </tr>\n",
       "    <tr>\n",
       "      <th>3</th>\n",
       "      <td>14146.250000</td>\n",
       "    </tr>\n",
       "    <tr>\n",
       "      <th>4</th>\n",
       "      <td>14137.349609</td>\n",
       "    </tr>\n",
       "  </tbody>\n",
       "</table>\n",
       "</div>"
      ],
      "text/plain": [
       "          Close\n",
       "0  14018.500000\n",
       "1  14132.900391\n",
       "2  14199.500000\n",
       "3  14146.250000\n",
       "4  14137.349609"
      ]
     },
     "execution_count": 14,
     "metadata": {},
     "output_type": "execute_result"
    }
   ],
   "source": [
    "data_training.head()"
   ]
  },
  {
   "cell_type": "code",
   "execution_count": 15,
   "metadata": {},
   "outputs": [
    {
     "data": {
      "text/html": [
       "<div>\n",
       "<style scoped>\n",
       "    .dataframe tbody tr th:only-of-type {\n",
       "        vertical-align: middle;\n",
       "    }\n",
       "\n",
       "    .dataframe tbody tr th {\n",
       "        vertical-align: top;\n",
       "    }\n",
       "\n",
       "    .dataframe thead th {\n",
       "        text-align: right;\n",
       "    }\n",
       "</style>\n",
       "<table border=\"1\" class=\"dataframe\">\n",
       "  <thead>\n",
       "    <tr style=\"text-align: right;\">\n",
       "      <th></th>\n",
       "      <th>Close</th>\n",
       "    </tr>\n",
       "  </thead>\n",
       "  <tbody>\n",
       "    <tr>\n",
       "      <th>214</th>\n",
       "      <td>18109.449219</td>\n",
       "    </tr>\n",
       "    <tr>\n",
       "      <th>215</th>\n",
       "      <td>17999.199219</td>\n",
       "    </tr>\n",
       "    <tr>\n",
       "      <th>216</th>\n",
       "      <td>17898.650391</td>\n",
       "    </tr>\n",
       "    <tr>\n",
       "      <th>217</th>\n",
       "      <td>17764.800781</td>\n",
       "    </tr>\n",
       "    <tr>\n",
       "      <th>218</th>\n",
       "      <td>17416.550781</td>\n",
       "    </tr>\n",
       "  </tbody>\n",
       "</table>\n",
       "</div>"
      ],
      "text/plain": [
       "            Close\n",
       "214  18109.449219\n",
       "215  17999.199219\n",
       "216  17898.650391\n",
       "217  17764.800781\n",
       "218  17416.550781"
      ]
     },
     "execution_count": 15,
     "metadata": {},
     "output_type": "execute_result"
    }
   ],
   "source": [
    "data_testing.head()"
   ]
  },
  {
   "cell_type": "code",
   "execution_count": 16,
   "metadata": {},
   "outputs": [],
   "source": [
    "from sklearn.preprocessing import MinMaxScaler\n",
    "scaler = MinMaxScaler(feature_range=(0,1))"
   ]
  },
  {
   "cell_type": "code",
   "execution_count": 17,
   "metadata": {},
   "outputs": [
    {
     "data": {
      "text/plain": [
       "array([[0.07927811],\n",
       "       [0.10290259],\n",
       "       [0.11665588],\n",
       "       [0.10565938],\n",
       "       [0.10382139],\n",
       "       [0.14716728],\n",
       "       [0.175562  ],\n",
       "       [0.19181414],\n",
       "       [0.19210312],\n",
       "       [0.19845321],\n",
       "       [0.16501985],\n",
       "       [0.13354811],\n",
       "       [0.18307893],\n",
       "       [0.20859283],\n",
       "       [0.19736905],\n",
       "       [0.15225776],\n",
       "       [0.12479233],\n",
       "       [0.06874626],\n",
       "       [0.03778049],\n",
       "       [0.        ],\n",
       "       [0.13352754],\n",
       "       [0.2092432 ],\n",
       "       [0.23858797],\n",
       "       [0.2604158 ],\n",
       "       [0.26632182],\n",
       "       [0.30587819],\n",
       "       [0.30453589],\n",
       "       [0.30395771],\n",
       "       [0.31775234],\n",
       "       [0.31568727],\n",
       "       [0.34695251],\n",
       "       [0.34669438],\n",
       "       [0.32510411],\n",
       "       [0.30652877],\n",
       "       [0.27819597],\n",
       "       [0.21499454],\n",
       "       [0.22162334],\n",
       "       [0.27824759],\n",
       "       [0.30206809],\n",
       "       [0.18473099],\n",
       "       [0.23272309],\n",
       "       [0.26525822],\n",
       "       [0.33268276],\n",
       "       [0.29864016],\n",
       "       [0.26918186],\n",
       "       [0.27291975],\n",
       "       [0.30228509],\n",
       "       [0.3180621 ],\n",
       "       [0.28835615],\n",
       "       [0.26740598],\n",
       "       [0.26347206],\n",
       "       [0.22441118],\n",
       "       [0.19065758],\n",
       "       [0.22909893],\n",
       "       [0.22752956],\n",
       "       [0.2437093 ],\n",
       "       [0.18891275],\n",
       "       [0.14255193],\n",
       "       [0.18021869],\n",
       "       [0.24997671],\n",
       "       [0.21809215],\n",
       "       [0.25457149],\n",
       "       [0.20716785],\n",
       "       [0.21660526],\n",
       "       [0.24459724],\n",
       "       [0.2559035 ],\n",
       "       [0.24786001],\n",
       "       [0.13964006],\n",
       "       [0.17970242],\n",
       "       [0.19553126],\n",
       "       [0.20304799],\n",
       "       [0.14968671],\n",
       "       [0.13666649],\n",
       "       [0.15933063],\n",
       "       [0.14594881],\n",
       "       [0.17561362],\n",
       "       [0.21031708],\n",
       "       [0.25399331],\n",
       "       [0.26026092],\n",
       "       [0.20578421],\n",
       "       [0.20641422],\n",
       "       [0.17798845],\n",
       "       [0.20304799],\n",
       "       [0.22513396],\n",
       "       [0.24544404],\n",
       "       [0.27005951],\n",
       "       [0.25114355],\n",
       "       [0.21928985],\n",
       "       [0.21542813],\n",
       "       [0.26609474],\n",
       "       [0.30428804],\n",
       "       [0.28819099],\n",
       "       [0.26256335],\n",
       "       [0.31816535],\n",
       "       [0.32279119],\n",
       "       [0.32501114],\n",
       "       [0.34421629],\n",
       "       [0.35173303],\n",
       "       [0.37192957],\n",
       "       [0.40231695],\n",
       "       [0.40067518],\n",
       "       [0.40095409],\n",
       "       [0.42452674],\n",
       "       [0.42037603],\n",
       "       [0.43718578],\n",
       "       [0.43480046],\n",
       "       [0.41316885],\n",
       "       [0.43431525],\n",
       "       [0.447036  ],\n",
       "       [0.44961734],\n",
       "       [0.46147092],\n",
       "       [0.44046912],\n",
       "       [0.42474373],\n",
       "       [0.42308119],\n",
       "       [0.43612219],\n",
       "       [0.44154299],\n",
       "       [0.42382474],\n",
       "       [0.44519821],\n",
       "       [0.45963293],\n",
       "       [0.450206  ],\n",
       "       [0.43652491],\n",
       "       [0.43095951],\n",
       "       [0.42238947],\n",
       "       [0.43110411],\n",
       "       [0.45426374],\n",
       "       [0.45093906],\n",
       "       [0.46361867],\n",
       "       [0.43228124],\n",
       "       [0.4244132 ],\n",
       "       [0.42499138],\n",
       "       [0.44972059],\n",
       "       [0.4583114 ],\n",
       "       [0.47281852],\n",
       "       [0.47265335],\n",
       "       [0.43734066],\n",
       "       [0.41249771],\n",
       "       [0.45213676],\n",
       "       [0.45874499],\n",
       "       [0.45221945],\n",
       "       [0.4361119 ],\n",
       "       [0.42846086],\n",
       "       [0.44272012],\n",
       "       [0.43953984],\n",
       "       [0.46475446],\n",
       "       [0.5154725 ],\n",
       "       [0.54191567],\n",
       "       [0.54930858],\n",
       "       [0.53766171],\n",
       "       [0.54180214],\n",
       "       [0.54631423],\n",
       "       [0.5467583 ],\n",
       "       [0.56372293],\n",
       "       [0.59773447],\n",
       "       [0.60474563],\n",
       "       [0.61539082],\n",
       "       [0.60594313],\n",
       "       [0.5815031 ],\n",
       "       [0.59099194],\n",
       "       [0.61745589],\n",
       "       [0.61953145],\n",
       "       [0.61999609],\n",
       "       [0.63410027],\n",
       "       [0.6807402 ],\n",
       "       [0.72227876],\n",
       "       [0.71072485],\n",
       "       [0.74333239],\n",
       "       [0.76180427],\n",
       "       [0.77299719],\n",
       "       [0.76975479],\n",
       "       [0.76797891],\n",
       "       [0.7712314 ],\n",
       "       [0.76835079],\n",
       "       [0.77345135],\n",
       "       [0.80224859],\n",
       "       [0.82497484],\n",
       "       [0.81581634],\n",
       "       [0.7769414 ],\n",
       "       [0.81103562],\n",
       "       [0.80786582],\n",
       "       [0.86492346],\n",
       "       [0.87117029],\n",
       "       [0.87156274],\n",
       "       [0.84956974],\n",
       "       [0.84186727],\n",
       "       [0.82263107],\n",
       "       [0.8048509 ],\n",
       "       [0.83772665],\n",
       "       [0.86478955],\n",
       "       [0.82838221],\n",
       "       [0.85819141],\n",
       "       [0.87984359],\n",
       "       [0.89032382],\n",
       "       [0.89982314],\n",
       "       [0.93488819],\n",
       "       [0.97139878],\n",
       "       [1.        ],\n",
       "       [0.98796048],\n",
       "       [0.95654036],\n",
       "       [0.93826449],\n",
       "       [0.92521341],\n",
       "       [0.92738174],\n",
       "       [0.95691224],\n",
       "       [0.94504817],\n",
       "       [0.87200681],\n",
       "       [0.83367919],\n",
       "       [0.88695799],\n",
       "       [0.87855292],\n",
       "       [0.86621413],\n",
       "       [0.88430446],\n",
       "       [0.9156419 ],\n",
       "       [0.91062361],\n",
       "       [0.90503744],\n",
       "       [0.87538312],\n",
       "       [0.92270427]])"
      ]
     },
     "execution_count": 17,
     "metadata": {},
     "output_type": "execute_result"
    }
   ],
   "source": [
    "data_training_array = scaler.fit_transform(data_training)\n",
    "data_training_array"
   ]
  },
  {
   "cell_type": "code",
   "execution_count": 18,
   "metadata": {},
   "outputs": [
    {
     "data": {
      "text/plain": [
       "(214, 1)"
      ]
     },
     "execution_count": 18,
     "metadata": {},
     "output_type": "execute_result"
    }
   ],
   "source": [
    "data_training_array.shape"
   ]
  },
  {
   "cell_type": "code",
   "execution_count": 19,
   "metadata": {},
   "outputs": [],
   "source": [
    "x_train = []\n",
    "y_train = []\n",
    "\n",
    "for i in range(100, data_training_array.shape[0]):\n",
    "    x_train.append(data_training_array[i-100: i])\n",
    "    y_train.append(data_training_array[i, 0])\n",
    "    \n",
    "x_train, y_train = np.array(x_train), np.array(y_train)"
   ]
  },
  {
   "cell_type": "code",
   "execution_count": 20,
   "metadata": {},
   "outputs": [
    {
     "data": {
      "text/plain": [
       "(114, 100, 1)"
      ]
     },
     "execution_count": 20,
     "metadata": {},
     "output_type": "execute_result"
    }
   ],
   "source": [
    "x_train.shape"
   ]
  },
  {
   "cell_type": "code",
   "execution_count": 21,
   "metadata": {},
   "outputs": [],
   "source": [
    "from keras.layers import Dense, Dropout , LSTM\n",
    "from keras.models import Sequential\n",
    "\n"
   ]
  },
  {
   "cell_type": "code",
   "execution_count": 22,
   "metadata": {},
   "outputs": [],
   "source": [
    "model = Sequential()\n",
    "\n",
    "model.add(LSTM(units =50, activation = 'relu', return_sequences = True, \n",
    "               input_shape =(x_train.shape[1],1)))\n",
    "model.add(Dropout(0.2))\n",
    "\n",
    "\n",
    "\n",
    "model.add(LSTM(units =60, activation = 'relu', return_sequences = True))\n",
    "model.add(Dropout(0.3))\n",
    "\n",
    "\n",
    "model.add(LSTM(units =80, activation = 'relu', return_sequences = True))\n",
    "model.add(Dropout(0.4))\n",
    "\n",
    "\n",
    "model.add(LSTM(units =120, activation = 'relu'))\n",
    "model.add(Dropout(0.5))\n",
    "\n",
    "\n",
    "\n",
    "\n",
    "model.add(Dense(units = 1))"
   ]
  },
  {
   "cell_type": "code",
   "execution_count": 23,
   "metadata": {},
   "outputs": [
    {
     "name": "stdout",
     "output_type": "stream",
     "text": [
      "Model: \"sequential\"\n",
      "_________________________________________________________________\n",
      " Layer (type)                Output Shape              Param #   \n",
      "=================================================================\n",
      " lstm (LSTM)                 (None, 100, 50)           10400     \n",
      "                                                                 \n",
      " dropout (Dropout)           (None, 100, 50)           0         \n",
      "                                                                 \n",
      " lstm_1 (LSTM)               (None, 100, 60)           26640     \n",
      "                                                                 \n",
      " dropout_1 (Dropout)         (None, 100, 60)           0         \n",
      "                                                                 \n",
      " lstm_2 (LSTM)               (None, 100, 80)           45120     \n",
      "                                                                 \n",
      " dropout_2 (Dropout)         (None, 100, 80)           0         \n",
      "                                                                 \n",
      " lstm_3 (LSTM)               (None, 120)               96480     \n",
      "                                                                 \n",
      " dropout_3 (Dropout)         (None, 120)               0         \n",
      "                                                                 \n",
      " dense (Dense)               (None, 1)                 121       \n",
      "                                                                 \n",
      "=================================================================\n",
      "Total params: 178,761\n",
      "Trainable params: 178,761\n",
      "Non-trainable params: 0\n",
      "_________________________________________________________________\n"
     ]
    }
   ],
   "source": [
    "model.summary()"
   ]
  },
  {
   "cell_type": "code",
   "execution_count": 24,
   "metadata": {},
   "outputs": [
    {
     "name": "stdout",
     "output_type": "stream",
     "text": [
      "Epoch 1/50\n",
      "4/4 [==============================] - 17s 367ms/step - loss: 0.4382\n",
      "Epoch 2/50\n",
      "4/4 [==============================] - 2s 431ms/step - loss: 0.2915\n",
      "Epoch 3/50\n",
      "4/4 [==============================] - 2s 463ms/step - loss: 0.1553\n",
      "Epoch 4/50\n",
      "4/4 [==============================] - 2s 376ms/step - loss: 0.0376\n",
      "Epoch 5/50\n",
      "4/4 [==============================] - 2s 369ms/step - loss: 0.1021\n",
      "Epoch 6/50\n",
      "4/4 [==============================] - 1s 297ms/step - loss: 0.1045\n",
      "Epoch 7/50\n",
      "4/4 [==============================] - 1s 296ms/step - loss: 0.0731\n",
      "Epoch 8/50\n",
      "4/4 [==============================] - 1s 372ms/step - loss: 0.0217\n",
      "Epoch 9/50\n",
      "4/4 [==============================] - 1s 325ms/step - loss: 0.0303\n",
      "Epoch 10/50\n",
      "4/4 [==============================] - 1s 288ms/step - loss: 0.0321\n",
      "Epoch 11/50\n",
      "4/4 [==============================] - 1s 286ms/step - loss: 0.0223\n",
      "Epoch 12/50\n",
      "4/4 [==============================] - 1s 365ms/step - loss: 0.0240\n",
      "Epoch 13/50\n",
      "4/4 [==============================] - 2s 401ms/step - loss: 0.0197\n",
      "Epoch 14/50\n",
      "4/4 [==============================] - 2s 419ms/step - loss: 0.0203\n",
      "Epoch 15/50\n",
      "4/4 [==============================] - 1s 362ms/step - loss: 0.0225\n",
      "Epoch 16/50\n",
      "4/4 [==============================] - 2s 378ms/step - loss: 0.0206\n",
      "Epoch 17/50\n",
      "4/4 [==============================] - 1s 318ms/step - loss: 0.0216\n",
      "Epoch 18/50\n",
      "4/4 [==============================] - 1s 320ms/step - loss: 0.0200\n",
      "Epoch 19/50\n",
      "4/4 [==============================] - 1s 319ms/step - loss: 0.0189\n",
      "Epoch 20/50\n",
      "4/4 [==============================] - 1s 352ms/step - loss: 0.0170\n",
      "Epoch 21/50\n",
      "4/4 [==============================] - 1s 287ms/step - loss: 0.0148\n",
      "Epoch 22/50\n",
      "4/4 [==============================] - 1s 294ms/step - loss: 0.0187\n",
      "Epoch 23/50\n",
      "4/4 [==============================] - 1s 383ms/step - loss: 0.0145\n",
      "Epoch 24/50\n",
      "4/4 [==============================] - 2s 401ms/step - loss: 0.0145\n",
      "Epoch 25/50\n",
      "4/4 [==============================] - 2s 383ms/step - loss: 0.0187\n",
      "Epoch 26/50\n",
      "4/4 [==============================] - 2s 364ms/step - loss: 0.0152\n",
      "Epoch 27/50\n",
      "4/4 [==============================] - 2s 373ms/step - loss: 0.0125\n",
      "Epoch 28/50\n",
      "4/4 [==============================] - 1s 331ms/step - loss: 0.0153\n",
      "Epoch 29/50\n",
      "4/4 [==============================] - 1s 321ms/step - loss: 0.0162\n",
      "Epoch 30/50\n",
      "4/4 [==============================] - 1s 264ms/step - loss: 0.0151\n",
      "Epoch 31/50\n",
      "4/4 [==============================] - 1s 316ms/step - loss: 0.0167\n",
      "Epoch 32/50\n",
      "4/4 [==============================] - 1s 312ms/step - loss: 0.0120\n",
      "Epoch 33/50\n",
      "4/4 [==============================] - 1s 319ms/step - loss: 0.0170\n",
      "Epoch 34/50\n",
      "4/4 [==============================] - 1s 357ms/step - loss: 0.0151\n",
      "Epoch 35/50\n",
      "4/4 [==============================] - 2s 394ms/step - loss: 0.0167\n",
      "Epoch 36/50\n",
      "4/4 [==============================] - 2s 377ms/step - loss: 0.0142\n",
      "Epoch 37/50\n",
      "4/4 [==============================] - 2s 379ms/step - loss: 0.0127\n",
      "Epoch 38/50\n",
      "4/4 [==============================] - 2s 391ms/step - loss: 0.0163\n",
      "Epoch 39/50\n",
      "4/4 [==============================] - 2s 391ms/step - loss: 0.0132\n",
      "Epoch 40/50\n",
      "4/4 [==============================] - 1s 312ms/step - loss: 0.0128\n",
      "Epoch 41/50\n",
      "4/4 [==============================] - 1s 339ms/step - loss: 0.0134\n",
      "Epoch 42/50\n",
      "4/4 [==============================] - 1s 316ms/step - loss: 0.0112\n",
      "Epoch 43/50\n",
      "4/4 [==============================] - 2s 431ms/step - loss: 0.0126\n",
      "Epoch 44/50\n",
      "4/4 [==============================] - 1s 304ms/step - loss: 0.0158\n",
      "Epoch 45/50\n",
      "4/4 [==============================] - 1s 300ms/step - loss: 0.0144\n",
      "Epoch 46/50\n",
      "4/4 [==============================] - 2s 368ms/step - loss: 0.0144\n",
      "Epoch 47/50\n",
      "4/4 [==============================] - 2s 371ms/step - loss: 0.0142\n",
      "Epoch 48/50\n",
      "4/4 [==============================] - 2s 422ms/step - loss: 0.0134\n",
      "Epoch 49/50\n",
      "4/4 [==============================] - 2s 382ms/step - loss: 0.0134\n",
      "Epoch 50/50\n",
      "4/4 [==============================] - 2s 390ms/step - loss: 0.0146\n"
     ]
    },
    {
     "data": {
      "text/plain": [
       "<keras.callbacks.History at 0x1f803910310>"
      ]
     },
     "execution_count": 24,
     "metadata": {},
     "output_type": "execute_result"
    }
   ],
   "source": [
    "model.compile(optimizer='adam', loss = 'mean_squared_error')\n",
    "model.fit(x_train, y_train, epochs = 50)"
   ]
  },
  {
   "cell_type": "code",
   "execution_count": 25,
   "metadata": {},
   "outputs": [],
   "source": [
    "model.save('keras_model.h5')"
   ]
  },
  {
   "cell_type": "code",
   "execution_count": 26,
   "metadata": {},
   "outputs": [
    {
     "data": {
      "text/html": [
       "<div>\n",
       "<style scoped>\n",
       "    .dataframe tbody tr th:only-of-type {\n",
       "        vertical-align: middle;\n",
       "    }\n",
       "\n",
       "    .dataframe tbody tr th {\n",
       "        vertical-align: top;\n",
       "    }\n",
       "\n",
       "    .dataframe thead th {\n",
       "        text-align: right;\n",
       "    }\n",
       "</style>\n",
       "<table border=\"1\" class=\"dataframe\">\n",
       "  <thead>\n",
       "    <tr style=\"text-align: right;\">\n",
       "      <th></th>\n",
       "      <th>Close</th>\n",
       "    </tr>\n",
       "  </thead>\n",
       "  <tbody>\n",
       "    <tr>\n",
       "      <th>214</th>\n",
       "      <td>18109.449219</td>\n",
       "    </tr>\n",
       "    <tr>\n",
       "      <th>215</th>\n",
       "      <td>17999.199219</td>\n",
       "    </tr>\n",
       "    <tr>\n",
       "      <th>216</th>\n",
       "      <td>17898.650391</td>\n",
       "    </tr>\n",
       "    <tr>\n",
       "      <th>217</th>\n",
       "      <td>17764.800781</td>\n",
       "    </tr>\n",
       "    <tr>\n",
       "      <th>218</th>\n",
       "      <td>17416.550781</td>\n",
       "    </tr>\n",
       "  </tbody>\n",
       "</table>\n",
       "</div>"
      ],
      "text/plain": [
       "            Close\n",
       "214  18109.449219\n",
       "215  17999.199219\n",
       "216  17898.650391\n",
       "217  17764.800781\n",
       "218  17416.550781"
      ]
     },
     "execution_count": 26,
     "metadata": {},
     "output_type": "execute_result"
    }
   ],
   "source": [
    "data_testing.head()"
   ]
  },
  {
   "cell_type": "code",
   "execution_count": 27,
   "metadata": {},
   "outputs": [
    {
     "data": {
      "text/html": [
       "<div>\n",
       "<style scoped>\n",
       "    .dataframe tbody tr th:only-of-type {\n",
       "        vertical-align: middle;\n",
       "    }\n",
       "\n",
       "    .dataframe tbody tr th {\n",
       "        vertical-align: top;\n",
       "    }\n",
       "\n",
       "    .dataframe thead th {\n",
       "        text-align: right;\n",
       "    }\n",
       "</style>\n",
       "<table border=\"1\" class=\"dataframe\">\n",
       "  <thead>\n",
       "    <tr style=\"text-align: right;\">\n",
       "      <th></th>\n",
       "      <th>Close</th>\n",
       "    </tr>\n",
       "  </thead>\n",
       "  <tbody>\n",
       "    <tr>\n",
       "      <th>114</th>\n",
       "      <td>15746.500000</td>\n",
       "    </tr>\n",
       "    <tr>\n",
       "      <th>115</th>\n",
       "      <td>15772.750000</td>\n",
       "    </tr>\n",
       "    <tr>\n",
       "      <th>116</th>\n",
       "      <td>15686.950195</td>\n",
       "    </tr>\n",
       "    <tr>\n",
       "      <th>117</th>\n",
       "      <td>15790.450195</td>\n",
       "    </tr>\n",
       "    <tr>\n",
       "      <th>118</th>\n",
       "      <td>15860.349609</td>\n",
       "    </tr>\n",
       "    <tr>\n",
       "      <th>...</th>\n",
       "      <td>...</td>\n",
       "    </tr>\n",
       "    <tr>\n",
       "      <th>209</th>\n",
       "      <td>18068.550781</td>\n",
       "    </tr>\n",
       "    <tr>\n",
       "      <th>210</th>\n",
       "      <td>18044.250000</td>\n",
       "    </tr>\n",
       "    <tr>\n",
       "      <th>211</th>\n",
       "      <td>18017.199219</td>\n",
       "    </tr>\n",
       "    <tr>\n",
       "      <th>212</th>\n",
       "      <td>17873.599609</td>\n",
       "    </tr>\n",
       "    <tr>\n",
       "      <th>213</th>\n",
       "      <td>18102.750000</td>\n",
       "    </tr>\n",
       "  </tbody>\n",
       "</table>\n",
       "<p>100 rows × 1 columns</p>\n",
       "</div>"
      ],
      "text/plain": [
       "            Close\n",
       "114  15746.500000\n",
       "115  15772.750000\n",
       "116  15686.950195\n",
       "117  15790.450195\n",
       "118  15860.349609\n",
       "..            ...\n",
       "209  18068.550781\n",
       "210  18044.250000\n",
       "211  18017.199219\n",
       "212  17873.599609\n",
       "213  18102.750000\n",
       "\n",
       "[100 rows x 1 columns]"
      ]
     },
     "execution_count": 27,
     "metadata": {},
     "output_type": "execute_result"
    }
   ],
   "source": [
    "data_training.tail(100)"
   ]
  },
  {
   "cell_type": "code",
   "execution_count": 28,
   "metadata": {},
   "outputs": [],
   "source": [
    "past_100_days = data_training.tail(100)"
   ]
  },
  {
   "cell_type": "code",
   "execution_count": 29,
   "metadata": {},
   "outputs": [],
   "source": [
    "final_df = past_100_days.append(data_testing, ignore_index = True)"
   ]
  },
  {
   "cell_type": "code",
   "execution_count": 30,
   "metadata": {},
   "outputs": [
    {
     "data": {
      "text/html": [
       "<div>\n",
       "<style scoped>\n",
       "    .dataframe tbody tr th:only-of-type {\n",
       "        vertical-align: middle;\n",
       "    }\n",
       "\n",
       "    .dataframe tbody tr th {\n",
       "        vertical-align: top;\n",
       "    }\n",
       "\n",
       "    .dataframe thead th {\n",
       "        text-align: right;\n",
       "    }\n",
       "</style>\n",
       "<table border=\"1\" class=\"dataframe\">\n",
       "  <thead>\n",
       "    <tr style=\"text-align: right;\">\n",
       "      <th></th>\n",
       "      <th>Close</th>\n",
       "    </tr>\n",
       "  </thead>\n",
       "  <tbody>\n",
       "    <tr>\n",
       "      <th>0</th>\n",
       "      <td>15746.500000</td>\n",
       "    </tr>\n",
       "    <tr>\n",
       "      <th>1</th>\n",
       "      <td>15772.750000</td>\n",
       "    </tr>\n",
       "    <tr>\n",
       "      <th>2</th>\n",
       "      <td>15686.950195</td>\n",
       "    </tr>\n",
       "    <tr>\n",
       "      <th>3</th>\n",
       "      <td>15790.450195</td>\n",
       "    </tr>\n",
       "    <tr>\n",
       "      <th>4</th>\n",
       "      <td>15860.349609</td>\n",
       "    </tr>\n",
       "  </tbody>\n",
       "</table>\n",
       "</div>"
      ],
      "text/plain": [
       "          Close\n",
       "0  15746.500000\n",
       "1  15772.750000\n",
       "2  15686.950195\n",
       "3  15790.450195\n",
       "4  15860.349609"
      ]
     },
     "execution_count": 30,
     "metadata": {},
     "output_type": "execute_result"
    }
   ],
   "source": [
    "final_df.head()"
   ]
  },
  {
   "cell_type": "code",
   "execution_count": 31,
   "metadata": {},
   "outputs": [
    {
     "data": {
      "text/plain": [
       "array([[0.04021172],\n",
       "       [0.0494386 ],\n",
       "       [0.01927997],\n",
       "       [0.05566021],\n",
       "       [0.08022985],\n",
       "       [0.06418408],\n",
       "       [0.04089722],\n",
       "       [0.03142423],\n",
       "       [0.01683698],\n",
       "       [0.03167035],\n",
       "       [0.07109085],\n",
       "       [0.06543184],\n",
       "       [0.08701407],\n",
       "       [0.03367396],\n",
       "       [0.02028161],\n",
       "       [0.02126574],\n",
       "       [0.06335785],\n",
       "       [0.07798045],\n",
       "       [0.10267332],\n",
       "       [0.10239219],\n",
       "       [0.04228571],\n",
       "       [0.        ],\n",
       "       [0.06747047],\n",
       "       [0.07871847],\n",
       "       [0.06761121],\n",
       "       [0.04019422],\n",
       "       [0.02717122],\n",
       "       [0.05144221],\n",
       "       [0.04602898],\n",
       "       [0.08894732],\n",
       "       [0.17527555],\n",
       "       [0.22028504],\n",
       "       [0.23286867],\n",
       "       [0.21304428],\n",
       "       [0.22009179],\n",
       "       [0.22777192],\n",
       "       [0.22852779],\n",
       "       [0.25740364],\n",
       "       [0.31529539],\n",
       "       [0.32722923],\n",
       "       [0.34534863],\n",
       "       [0.32926751],\n",
       "       [0.28766764],\n",
       "       [0.30381879],\n",
       "       [0.34886363],\n",
       "       [0.35239648],\n",
       "       [0.35318736],\n",
       "       [0.37719439],\n",
       "       [0.45658118],\n",
       "       [0.52728484],\n",
       "       [0.50761869],\n",
       "       [0.56312066],\n",
       "       [0.59456205],\n",
       "       [0.61361376],\n",
       "       [0.6080948 ],\n",
       "       [0.60507203],\n",
       "       [0.61060816],\n",
       "       [0.60570501],\n",
       "       [0.61438678],\n",
       "       [0.66340316],\n",
       "       [0.702086  ],\n",
       "       [0.68649712],\n",
       "       [0.62032727],\n",
       "       [0.67835976],\n",
       "       [0.67296437],\n",
       "       [0.77008338],\n",
       "       [0.78071625],\n",
       "       [0.78138424],\n",
       "       [0.7439495 ],\n",
       "       [0.73083897],\n",
       "       [0.69809661],\n",
       "       [0.66783261],\n",
       "       [0.72379112],\n",
       "       [0.76985545],\n",
       "       [0.70788575],\n",
       "       [0.75862462],\n",
       "       [0.79547924],\n",
       "       [0.81331786],\n",
       "       [0.82948686],\n",
       "       [0.88917181],\n",
       "       [0.95131727],\n",
       "       [1.        ],\n",
       "       [0.97950728],\n",
       "       [0.92602644],\n",
       "       [0.8949187 ],\n",
       "       [0.87270418],\n",
       "       [0.87639493],\n",
       "       [0.92665941],\n",
       "       [0.90646533],\n",
       "       [0.7821401 ],\n",
       "       [0.71690186],\n",
       "       [0.80758883],\n",
       "       [0.79328237],\n",
       "       [0.77228025],\n",
       "       [0.80307219],\n",
       "       [0.8564123 ],\n",
       "       [0.84787058],\n",
       "       [0.83836223],\n",
       "       [0.78788698],\n",
       "       [0.86843332],\n",
       "       [0.87078809],\n",
       "       [0.83203523],\n",
       "       [0.79669233],\n",
       "       [0.74964421],\n",
       "       [0.62723438],\n",
       "       [0.65774415],\n",
       "       [0.62670713],\n",
       "       [0.66930864],\n",
       "       [0.49011372],\n",
       "       [0.49977997],\n",
       "       [0.47491135],\n",
       "       [0.53948229],\n",
       "       [0.62199689],\n",
       "       [0.54995658],\n",
       "       [0.44997271],\n",
       "       [0.54292658],\n",
       "       [0.64593389],\n",
       "       [0.6624894 ],\n",
       "       [0.66053899],\n",
       "       [0.61025666],\n",
       "       [0.59501927],\n",
       "       [0.55863904],\n",
       "       [0.56812953],\n",
       "       [0.47561435],\n",
       "       [0.3452079 ],\n",
       "       [0.40027049],\n",
       "       [0.46515723],\n",
       "       [0.50633558],\n",
       "       [0.48213495],\n",
       "       [0.51113369],\n",
       "       [0.56280417],\n",
       "       [0.55589706],\n",
       "       [0.55250495],\n",
       "       [0.60526563],\n",
       "       [0.70075003],\n",
       "       [0.7638621 ],\n",
       "       [0.80604209],\n",
       "       [0.74300072],\n",
       "       [0.7664805 ],\n",
       "       [0.83347693],\n",
       "       [0.85191283],\n",
       "       [0.90695757],\n",
       "       [0.92293365],\n",
       "       [0.9222128 ],\n",
       "       [0.94061368],\n",
       "       [0.87205404],\n",
       "       [0.81066445],\n",
       "       [0.74690224],\n",
       "       [0.69774511],\n",
       "       [0.53322532],\n",
       "       [0.57851594],\n",
       "       [0.51953467],\n",
       "       [0.51665196],\n",
       "       [0.60027392],\n",
       "       [0.68357939],\n",
       "       [0.75498673],\n",
       "       [0.67772678],\n",
       "       [0.66229649],\n",
       "       [0.55589706],\n",
       "       [0.57457942],\n",
       "       [0.64384274],\n",
       "       [0.69377289],\n",
       "       [0.61254141],\n",
       "       [0.42556132],\n",
       "       [0.60470268],\n",
       "       [0.59406981],\n",
       "       [0.58788355],\n",
       "       [0.57793652],\n",
       "       [0.55345441],\n",
       "       [0.51322484],\n",
       "       [0.50304919],\n",
       "       [0.21647141],\n",
       "       [0.3607446 ],\n",
       "       [0.40837284],\n",
       "       [0.34230802],\n",
       "       [0.30438173],\n",
       "       [0.2155573 ],\n",
       "       [0.08121432],\n",
       "       [0.13404469],\n",
       "       [0.25070729],\n",
       "       [0.33842436],\n",
       "       [0.35091977],\n",
       "       [0.43557907],\n",
       "       [0.36236137],\n",
       "       [0.47215222],\n",
       "       [0.58171514],\n",
       "       [0.52215307],\n",
       "       [0.59171504],\n",
       "       [0.56716291],\n",
       "       [0.55911342],\n",
       "       [0.53459631],\n",
       "       [0.5588498 ],\n",
       "       [0.59516001]])"
      ]
     },
     "execution_count": 31,
     "metadata": {},
     "output_type": "execute_result"
    }
   ],
   "source": [
    "input_data = scaler.fit_transform(final_df)\n",
    "input_data"
   ]
  },
  {
   "cell_type": "code",
   "execution_count": 32,
   "metadata": {},
   "outputs": [
    {
     "data": {
      "text/plain": [
       "(193, 1)"
      ]
     },
     "execution_count": 32,
     "metadata": {},
     "output_type": "execute_result"
    }
   ],
   "source": [
    "input_data.shape"
   ]
  },
  {
   "cell_type": "code",
   "execution_count": 33,
   "metadata": {},
   "outputs": [],
   "source": [
    "x_test = []\n",
    "y_test = []\n",
    "\n",
    "for i in range(100, input_data.shape[0]):\n",
    "    x_test.append(input_data[i-100: i])\n",
    "    y_test.append(input_data[i, 0])"
   ]
  },
  {
   "cell_type": "code",
   "execution_count": 34,
   "metadata": {},
   "outputs": [
    {
     "name": "stdout",
     "output_type": "stream",
     "text": [
      "(93, 100, 1)\n",
      "(93,)\n"
     ]
    }
   ],
   "source": [
    "x_test, y_test = np.array(x_test),np.array(y_test)\n",
    "print(x_test.shape)\n",
    "print(y_test.shape)"
   ]
  },
  {
   "cell_type": "code",
   "execution_count": 35,
   "metadata": {},
   "outputs": [],
   "source": [
    "# making predictions\n",
    "\n",
    "y_predicted = model.predict(x_test)"
   ]
  },
  {
   "cell_type": "code",
   "execution_count": 36,
   "metadata": {},
   "outputs": [
    {
     "data": {
      "text/plain": [
       "(93, 1)"
      ]
     },
     "execution_count": 36,
     "metadata": {},
     "output_type": "execute_result"
    }
   ],
   "source": [
    "y_predicted.shape"
   ]
  },
  {
   "cell_type": "code",
   "execution_count": 37,
   "metadata": {},
   "outputs": [
    {
     "data": {
      "text/plain": [
       "array([0.87078809, 0.83203523, 0.79669233, 0.74964421, 0.62723438,\n",
       "       0.65774415, 0.62670713, 0.66930864, 0.49011372, 0.49977997,\n",
       "       0.47491135, 0.53948229, 0.62199689, 0.54995658, 0.44997271,\n",
       "       0.54292658, 0.64593389, 0.6624894 , 0.66053899, 0.61025666,\n",
       "       0.59501927, 0.55863904, 0.56812953, 0.47561435, 0.3452079 ,\n",
       "       0.40027049, 0.46515723, 0.50633558, 0.48213495, 0.51113369,\n",
       "       0.56280417, 0.55589706, 0.55250495, 0.60526563, 0.70075003,\n",
       "       0.7638621 , 0.80604209, 0.74300072, 0.7664805 , 0.83347693,\n",
       "       0.85191283, 0.90695757, 0.92293365, 0.9222128 , 0.94061368,\n",
       "       0.87205404, 0.81066445, 0.74690224, 0.69774511, 0.53322532,\n",
       "       0.57851594, 0.51953467, 0.51665196, 0.60027392, 0.68357939,\n",
       "       0.75498673, 0.67772678, 0.66229649, 0.55589706, 0.57457942,\n",
       "       0.64384274, 0.69377289, 0.61254141, 0.42556132, 0.60470268,\n",
       "       0.59406981, 0.58788355, 0.57793652, 0.55345441, 0.51322484,\n",
       "       0.50304919, 0.21647141, 0.3607446 , 0.40837284, 0.34230802,\n",
       "       0.30438173, 0.2155573 , 0.08121432, 0.13404469, 0.25070729,\n",
       "       0.33842436, 0.35091977, 0.43557907, 0.36236137, 0.47215222,\n",
       "       0.58171514, 0.52215307, 0.59171504, 0.56716291, 0.55911342,\n",
       "       0.53459631, 0.5588498 , 0.59516001])"
      ]
     },
     "execution_count": 37,
     "metadata": {},
     "output_type": "execute_result"
    }
   ],
   "source": [
    "y_test"
   ]
  },
  {
   "cell_type": "code",
   "execution_count": 38,
   "metadata": {},
   "outputs": [
    {
     "data": {
      "text/plain": [
       "array([[0.85769343],\n",
       "       [0.85875213],\n",
       "       [0.85952806],\n",
       "       [0.86007124],\n",
       "       [0.8603627 ],\n",
       "       [0.86025774],\n",
       "       [0.8596004 ],\n",
       "       [0.8582379 ],\n",
       "       [0.85608876],\n",
       "       [0.85301507],\n",
       "       [0.8488714 ],\n",
       "       [0.8435378 ],\n",
       "       [0.8370094 ],\n",
       "       [0.82943225],\n",
       "       [0.82098097],\n",
       "       [0.81175613],\n",
       "       [0.80191356],\n",
       "       [0.7917118 ],\n",
       "       [0.78145903],\n",
       "       [0.7714507 ],\n",
       "       [0.76190567],\n",
       "       [0.75296533],\n",
       "       [0.7446847 ],\n",
       "       [0.73706967],\n",
       "       [0.7300199 ],\n",
       "       [0.72326785],\n",
       "       [0.71653795],\n",
       "       [0.7096552 ],\n",
       "       [0.7025653 ],\n",
       "       [0.69526994],\n",
       "       [0.68783677],\n",
       "       [0.6804153 ],\n",
       "       [0.67317885],\n",
       "       [0.6662923 ],\n",
       "       [0.6599407 ],\n",
       "       [0.6543586 ],\n",
       "       [0.6498087 ],\n",
       "       [0.6465464 ],\n",
       "       [0.6447256 ],\n",
       "       [0.6444204 ],\n",
       "       [0.6456756 ],\n",
       "       [0.64850056],\n",
       "       [0.65289533],\n",
       "       [0.6588308 ],\n",
       "       [0.6662464 ],\n",
       "       [0.6750485 ],\n",
       "       [0.6850562 ],\n",
       "       [0.6959913 ],\n",
       "       [0.70748705],\n",
       "       [0.7191285 ],\n",
       "       [0.73038757],\n",
       "       [0.7407637 ],\n",
       "       [0.7498096 ],\n",
       "       [0.75718474],\n",
       "       [0.76275325],\n",
       "       [0.76656616],\n",
       "       [0.7688531 ],\n",
       "       [0.76986927],\n",
       "       [0.76985776],\n",
       "       [0.76896155],\n",
       "       [0.7672844 ],\n",
       "       [0.76496416],\n",
       "       [0.76218784],\n",
       "       [0.75909317],\n",
       "       [0.75563043],\n",
       "       [0.7518202 ],\n",
       "       [0.7477163 ],\n",
       "       [0.7433889 ],\n",
       "       [0.7389091 ],\n",
       "       [0.7343273 ],\n",
       "       [0.7296492 ],\n",
       "       [0.72485393],\n",
       "       [0.71964294],\n",
       "       [0.7137576 ],\n",
       "       [0.7070521 ],\n",
       "       [0.69941425],\n",
       "       [0.6907512 ],\n",
       "       [0.68093854],\n",
       "       [0.6697685 ],\n",
       "       [0.65714216],\n",
       "       [0.64316404],\n",
       "       [0.6280912 ],\n",
       "       [0.61226803],\n",
       "       [0.59613276],\n",
       "       [0.5800816 ],\n",
       "       [0.564533  ],\n",
       "       [0.5499512 ],\n",
       "       [0.53672373],\n",
       "       [0.5252123 ],\n",
       "       [0.51567334],\n",
       "       [0.50824916],\n",
       "       [0.50298816],\n",
       "       [0.4998534 ]], dtype=float32)"
      ]
     },
     "execution_count": 38,
     "metadata": {},
     "output_type": "execute_result"
    }
   ],
   "source": [
    "y_predicted"
   ]
  },
  {
   "cell_type": "code",
   "execution_count": 39,
   "metadata": {},
   "outputs": [
    {
     "data": {
      "text/plain": [
       "array([0.0003515])"
      ]
     },
     "execution_count": 39,
     "metadata": {},
     "output_type": "execute_result"
    }
   ],
   "source": [
    "scaler.scale_"
   ]
  },
  {
   "cell_type": "code",
   "execution_count": 40,
   "metadata": {},
   "outputs": [],
   "source": [
    "scale_factor = 1/0.02099517\n",
    "y_predicted = y_predicted * scale_factor\n",
    "y_test = y_test * scale_factor"
   ]
  },
  {
   "cell_type": "code",
   "execution_count": 41,
   "metadata": {},
   "outputs": [
    {
     "data": {
      "text/plain": [
       "<function matplotlib.pyplot.show(*args, **kw)>"
      ]
     },
     "execution_count": 41,
     "metadata": {},
     "output_type": "execute_result"
    },
    {
     "data": {
      "image/png": "[encoded data removed]",
      "text/plain": [
       "<Figure size 864x432 with 1 Axes>"
      ]
     },
     "metadata": {
      "needs_background": "light"
     },
     "output_type": "display_data"
    }
   ],
   "source": [
    "plt.figure(figsize=(12,6))\n",
    "plt.plot(y_test, 'b', label = 'original Price')\n",
    "plt.plot(y_predicted, 'r', label = 'Predicted Price')\n",
    "plt.xlabel('Time')\n",
    "plt.ylabel('Price')\n",
    "plt.legend()\n",
    "plt.show"
   ]
  },
  {
   "cell_type": "code",
   "execution_count": null,
   "metadata": {},
   "outputs": [],
   "source": []
  },
  {
   "cell_type": "code",
   "execution_count": null,
   "metadata": {},
   "outputs": [],
   "source": []
  }
 ],
 "metadata": {
  "kernelspec": {
   "display_name": "Python 3 (ipykernel)",
   "language": "python",
   "name": "python3"
  },
  "language_info": {
   "codemirror_mode": {
    "name": "ipython",
    "version": 3
   },
   "file_extension": ".py",
   "mimetype": "text/x-python",
   "name": "python",
   "nbconvert_exporter": "python",
   "pygments_lexer": "ipython3",
   "version": "3.8.3"
  }
 },
 "nbformat": 4,
 "nbformat_minor": 4
}
